{
 "cells": [
  {
   "cell_type": "code",
   "execution_count": 2,
   "metadata": {},
   "outputs": [
    {
     "name": "stdout",
     "output_type": "stream",
     "text": [
      "Jupyter environment detected. Enabling Open3D WebVisualizer.\n",
      "[Open3D INFO] WebRTC GUI backend enabled.\n",
      "[Open3D INFO] WebRTCWindowSystem: HTTP handshake server disabled.\n"
     ]
    }
   ],
   "source": [
    "import os, sys\n",
    "os.environ[\"CUDA_VISIBLE_DEVICES\"] = \"2\"\n",
    "import torch\n",
    "import numpy as np\n",
    "from matplotlib import pyplot as plt\n",
    "from PIL import Image\n",
    "import cv2\n",
    "from arguments import ModelParams, PipelineParams, ModelHiddenParams\n",
    "from scene import Scene, GaussianModel\n",
    "from segment_anything import (SamAutomaticMaskGenerator, SamPredictor, sam_model_registry)\n",
    "import imageio\n",
    "from utils.segment_utils import *\n",
    "from scene.hyper_loader import Load_hyper_data\n",
    "from scene.neural_3D_dataset_NDC import Neural3D_NDC_Dataset\n",
    "\n",
    "%load_ext autoreload\n",
    "%autoreload 2"
   ]
  },
  {
   "cell_type": "code",
   "execution_count": 4,
   "metadata": {},
   "outputs": [
    {
     "name": "stdout",
     "output_type": "stream",
     "text": [
      "113\n"
     ]
    }
   ],
   "source": [
    "datadir = \"data/hypernerf/chickchicken\"\n",
    "test_cam_infos = Load_hyper_data(datadir, 0.5, False, split=\"test\")\n",
    "print(len(test_cam_infos))"
   ]
  },
  {
   "cell_type": "code",
   "execution_count": 5,
   "metadata": {},
   "outputs": [],
   "source": [
    "model_type = 'vit_h'\n",
    "sam = sam_model_registry[model_type](checkpoint='/data/sxj/dependencies/sam_ckpt/sam_vit_h_4b8939.pth').to('cuda')\n",
    "predictor = SamPredictor(sam)"
   ]
  },
  {
   "cell_type": "code",
   "execution_count": null,
   "metadata": {},
   "outputs": [],
   "source": [
    "index = 113\n",
    "\n",
    "img = test_cam_infos[index].image\n",
    "img = to8b(img.permute([1, 2, 0]))\n",
    "input_point = np.array([[200, 200], [270, 380], [310, 450]])\n",
    "# input_point = np.array([[200, 300]])``\n",
    "# input_point = np.array([[200, 300]])\n",
    "# input_label = np.ones(len(input_point))\n",
    "input_label = np.array([1, 0, 1])\n",
    "\n",
    "with torch.no_grad():\n",
    "    predictor.set_image(img)\n",
    "    vanilla_masks, scores, logits = predictor.predict(\n",
    "        point_coords=input_point,\n",
    "        point_labels=input_label,\n",
    "        multimask_output=True,\n",
    "    )\n",
    "l = len(vanilla_masks)\n",
    "mask_id = np.argmax(scores)\n",
    "plt.imshow(img)\n",
    "show_points(input_point, input_label, plt.gca())\n",
    "show_mask(vanilla_masks[mask_id], plt.gca())\n",
    "plt.title(f\"Mask {mask_id}, Score: {scores[mask_id]:.3f}\", fontsize=18)\n",
    "# plt.axis('off')\n",
    "plt.show()\n",
    "\n",
    "save_dir = os.path.join(datadir, \"gt_mask\", \"egg\")\n",
    "os.makedirs(save_dir, exist_ok=True)\n",
    "cv2.imwrite(os.path.join(save_dir, test_cam_infos[index].image_name), vanilla_masks[mask_id].astype(\"int\"))"
   ]
  }
 ],
 "metadata": {
  "kernelspec": {
   "display_name": "Gaussians4D",
   "language": "python",
   "name": "python3"
  },
  "language_info": {
   "codemirror_mode": {
    "name": "ipython",
    "version": 3
   },
   "file_extension": ".py",
   "mimetype": "text/x-python",
   "name": "python",
   "nbconvert_exporter": "python",
   "pygments_lexer": "ipython3",
   "version": "3.7.12"
  }
 },
 "nbformat": 4,
 "nbformat_minor": 2
}
