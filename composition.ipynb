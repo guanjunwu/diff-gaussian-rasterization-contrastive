{
 "cells": [
  {
   "cell_type": "code",
   "execution_count": 1,
   "metadata": {},
   "outputs": [
    {
     "name": "stdout",
     "output_type": "stream",
     "text": [
      "Jupyter environment detected. Enabling Open3D WebVisualizer.\n",
      "[Open3D INFO] WebRTC GUI backend enabled.\n",
      "[Open3D INFO] WebRTCWindowSystem: HTTP handshake server disabled.\n"
     ]
    },
    {
     "ename": "SyntaxError",
     "evalue": "invalid syntax (feature_gaussian_model.py, line 219)",
     "output_type": "error",
     "traceback": [
      "Traceback \u001b[0;36m(most recent call last)\u001b[0m:\n",
      "\u001b[0m  File \u001b[1;32m/data/sxj/miniconda3/envs/Gaussians4D/lib/python3.8/site-packages/IPython/core/interactiveshell.py:3508\u001b[0m in \u001b[1;35mrun_code\u001b[0m\n    exec(code_obj, self.user_global_ns, self.user_ns)\u001b[0m\n",
      "\u001b[0m  Cell \u001b[1;32mIn[1], line 14\u001b[0m\n    from scene import Scene, GaussianModel\u001b[0m\n",
      "\u001b[0;36m  File \u001b[0;32m/data3/sxj/Segment-Anything-in-4D/scene/__init__.py:17\u001b[0;36m\n\u001b[0;31m    from scene.feature_gaussian_model import GaussianModel\u001b[0;36m\n",
      "\u001b[0;36m  File \u001b[0;32m/data3/sxj/Segment-Anything-in-4D/scene/feature_gaussian_model.py:219\u001b[0;36m\u001b[0m\n\u001b[0;31m    def\u001b[0m\n\u001b[0m        ^\u001b[0m\n\u001b[0;31mSyntaxError\u001b[0m\u001b[0;31m:\u001b[0m invalid syntax\n"
     ]
    }
   ],
   "source": [
    "import time\n",
    "import os\n",
    "os.environ[\"CUDA_VISIBLE_DEVICES\"] = \"1\"\n",
    "import torch\n",
    "import pytorch3d.ops\n",
    "from plyfile import PlyData, PlyElement\n",
    "import numpy as np\n",
    "from matplotlib import pyplot as plt\n",
    "from PIL import Image\n",
    "from argparse import ArgumentParser, Namespace\n",
    "import cv2\n",
    "from tqdm import tqdm\n",
    "from arguments import ModelParams, PipelineParams, ModelHiddenParams\n",
    "from scene import Scene, GaussianModel\n",
    "from gaussian_renderer import render, render_contrastive_feature, render_segmentation, render_mask\n",
    "from segment_anything import (SamAutomaticMaskGenerator, SamPredictor, sam_model_registry)\n",
    "from utils.sh_utils import SH2RGB\n",
    "import imageio\n",
    "from utils.segment_utils import *\n",
    "from kmeans_pytorch import kmeans\n",
    "\n",
    "%load_ext autoreload\n",
    "%autoreload 2"
   ]
  },
  {
   "cell_type": "code",
   "execution_count": null,
   "metadata": {},
   "outputs": [],
   "source": [
    "DATA_ROOT = './data/hypernerf/chickchicken'\n",
    "MODEL_PATH = './output/hypernerf/chickchicken'"
   ]
  },
  {
   "cell_type": "code",
   "execution_count": null,
   "metadata": {},
   "outputs": [
    {
     "name": "stdout",
     "output_type": "stream",
     "text": [
      "Looking for config file in ./output/hypernerf/chickchicken/feature_cfg_args\n",
      "Config file found at: ./output/hypernerf/chickchicken/feature_cfg_args\n",
      "mode:  scene\n",
      "Loading trained model at iteration 14000\n",
      "load finished\n"
     ]
    },
    {
     "name": "stderr",
     "output_type": "stream",
     "text": [
      "114it [00:00, 31569.43it/s]"
     ]
    },
    {
     "name": "stdout",
     "output_type": "stream",
     "text": [
      "format finished\n",
      "Loading Training Cameras\n",
      "Loading Test Cameras\n",
      "Loading Video Cameras\n",
      "Deformation Net Set aabb [ 81.62185669  25.49359322 291.8190918 ] [ -34.72369003 -174.75157166   12.67879772]\n",
      "Voxel Plane: set aabb= Parameter containing:\n",
      "tensor([[  81.6219,   25.4936,  291.8191],\n",
      "        [ -34.7237, -174.7516,   12.6788]])\n"
     ]
    },
    {
     "name": "stderr",
     "output_type": "stream",
     "text": [
      "\n"
     ]
    },
    {
     "name": "stdout",
     "output_type": "stream",
     "text": [
      "loading model from exists./output/hypernerf/chickchicken/point_cloud/iteration_14000\n"
     ]
    }
   ],
   "source": [
    "parser = ArgumentParser(description=\"Render script parameters\")\n",
    "model = ModelParams(parser, sentinel=True)\n",
    "# op = OptimizationParams(parser)\n",
    "pipeline = PipelineParams(parser)\n",
    "hp = ModelHiddenParams(parser)\n",
    "parser.add_argument(\"--iteration\", default=-1, type=int)\n",
    "parser.add_argument('--mode', default='scene', choices=['scene', 'feature'])\n",
    "parser.add_argument(\"--configs\", type=str, default = \"./arguments/hypernerf/chicken.py\")\n",
    "# parser.add_argument('--precomputed_mask', default=None, type=str)\n",
    "args = get_combined_args(parser, MODEL_PATH, 'feature')\n",
    "if args.configs:\n",
    "    import mmcv\n",
    "    from utils.params_utils import merge_hparams\n",
    "    config = mmcv.Config.fromfile(args.configs)\n",
    "    args = merge_hparams(args, config)\n",
    "\n",
    "dataset = model.extract(args)\n",
    "hyperparam = hp.extract(args)\n",
    "\n",
    "gaussians = GaussianModel(dataset.sh_degree, args.mode, hyperparam)\n",
    "scene = Scene(dataset, gaussians, load_iteration=args.iteration, mode=args.mode)"
   ]
  },
  {
   "cell_type": "code",
   "execution_count": null,
   "metadata": {},
   "outputs": [],
   "source": []
  }
 ],
 "metadata": {
  "kernelspec": {
   "display_name": "Gaussians4D",
   "language": "python",
   "name": "python3"
  },
  "language_info": {
   "codemirror_mode": {
    "name": "ipython",
    "version": 3
   },
   "file_extension": ".py",
   "mimetype": "text/x-python",
   "name": "python",
   "nbconvert_exporter": "python",
   "pygments_lexer": "ipython3",
   "version": "3.8.0"
  }
 },
 "nbformat": 4,
 "nbformat_minor": 2
}
