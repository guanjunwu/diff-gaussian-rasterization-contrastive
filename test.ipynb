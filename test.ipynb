{
 "cells": [
  {
   "cell_type": "code",
   "execution_count": 1,
   "metadata": {},
   "outputs": [
    {
     "name": "stdout",
     "output_type": "stream",
     "text": [
      "Jupyter environment detected. Enabling Open3D WebVisualizer.\n",
      "[Open3D INFO] WebRTC GUI backend enabled.\n",
      "[Open3D INFO] WebRTCWindowSystem: HTTP handshake server disabled.\n"
     ]
    }
   ],
   "source": [
    "import time\n",
    "import os\n",
    "os.environ[\"CUDA_VISIBLE_DEVICES\"] = \"1\"\n",
    "import torch\n",
    "import pytorch3d.ops\n",
    "from plyfile import PlyData, PlyElement\n",
    "import numpy as np\n",
    "from matplotlib import pyplot as plt\n",
    "from PIL import Image\n",
    "from argparse import ArgumentParser, Namespace\n",
    "import cv2\n",
    "from tqdm import tqdm\n",
    "from arguments import ModelParams, PipelineParams, ModelHiddenParams\n",
    "from scene import Scene, GaussianModel\n",
    "from gaussian_renderer import render, render_contrastive_feature, render_segmentation, render_mask\n",
    "from segment_anything import (SamAutomaticMaskGenerator, SamPredictor, sam_model_registry)\n",
    "from utils.sh_utils import SH2RGB\n",
    "import imageio\n",
    "from utils.segment_utils import *\n",
    "from kmeans_pytorch import kmeans\n",
    "from scene.hyper_loader import Load_hyper_data\n",
    "\n",
    "%load_ext autoreload\n",
    "%autoreload 2"
   ]
  },
  {
   "cell_type": "code",
   "execution_count": 8,
   "metadata": {},
   "outputs": [
    {
     "name": "stdout",
     "output_type": "stream",
     "text": [
      "tensor(215, dtype=torch.uint8)\n"
     ]
    }
   ],
   "source": [
    "sceneinfo = Load_hyper_data(\"./data/split-cookie/\", 0.5, split =\"train\", object_masks=True)\n",
    "views = [i for i in enumerate(sceneinfo)]\n",
    "print(sceneinfo.num_classes)"
   ]
  },
  {
   "cell_type": "code",
   "execution_count": 12,
   "metadata": {},
   "outputs": [
    {
     "data": {
      "text/plain": [
       "tensor([[ 0,  0,  0,  ..., 31, 31, 31],\n",
       "        [ 0,  0,  0,  ..., 31, 31, 31],\n",
       "        [ 0,  0, 29,  ..., 31, 31, 31],\n",
       "        ...,\n",
       "        [41, 41, 41,  ..., 30, 30, 30],\n",
       "        [41, 41, 41,  ..., 30, 30, 30],\n",
       "        [41, 41, 41,  ..., 30, 30, 30]], dtype=torch.uint8)"
      ]
     },
     "execution_count": 12,
     "metadata": {},
     "output_type": "execute_result"
    }
   ],
   "source": [
    "sceneinfo[0].objects"
   ]
  }
 ],
 "metadata": {
  "kernelspec": {
   "display_name": "Gaussians4D",
   "language": "python",
   "name": "python3"
  },
  "language_info": {
   "codemirror_mode": {
    "name": "ipython",
    "version": 3
   },
   "file_extension": ".py",
   "mimetype": "text/x-python",
   "name": "python",
   "nbconvert_exporter": "python",
   "pygments_lexer": "ipython3",
   "version": "3.8.0"
  }
 },
 "nbformat": 4,
 "nbformat_minor": 2
}
