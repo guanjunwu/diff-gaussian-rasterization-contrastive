{
 "cells": [
  {
   "cell_type": "code",
   "execution_count": 6,
   "metadata": {},
   "outputs": [
    {
     "name": "stdout",
     "output_type": "stream",
     "text": [
      "The autoreload extension is already loaded. To reload it, use:\n",
      "  %reload_ext autoreload\n"
     ]
    }
   ],
   "source": [
    "import os, sys, time\n",
    "os.environ[\"CUDA_VISIBLE_DEVICES\"] = \"2\"\n",
    "import torch\n",
    "import numpy as np\n",
    "from matplotlib import pyplot as plt\n",
    "from PIL import Image\n",
    "import cv2\n",
    "from segment_anything import (SamAutomaticMaskGenerator, SamPredictor, sam_model_registry)\n",
    "import imageio\n",
    "from utils.segment_utils import *\n",
    "from scene.neural_3D_dataset_NDC import Neural3D_NDC_Dataset\n",
    "from IPython.display import clear_output as clear\n",
    "\n",
    "%load_ext autoreload\n",
    "%autoreload 2"
   ]
  },
  {
   "cell_type": "code",
   "execution_count": 2,
   "metadata": {},
   "outputs": [],
   "source": [
    "model_type = 'vit_h'\n",
    "sam = sam_model_registry[model_type](checkpoint='/data/sxj/dependencies/sam_ckpt/sam_vit_h_4b8939.pth').to('cuda')\n",
    "predictor = SamPredictor(sam)"
   ]
  },
  {
   "cell_type": "code",
   "execution_count": 3,
   "metadata": {},
   "outputs": [],
   "source": [
    "datadir = \"data/dynerf/cut_roasted_beef\"\n",
    "camdir = \"cam00\"\n",
    "imgdir = os.path.join(datadir, camdir, \"images\")\n",
    "images_path = os.listdir(imgdir)\n",
    "images_path.sort()"
   ]
  },
  {
   "cell_type": "code",
   "execution_count": 12,
   "metadata": {},
   "outputs": [],
   "source": [
    "with torch.no_grad():\n",
    "    for i in range(263, len(images_path)):\n",
    "        # sys.stdout.write('\\r')\n",
    "        # sys.stdout.write(\"Reading image {}/{}\".format(i+1, len(images_path)))\n",
    "        # sys.stdout.flush()\n",
    "        print(\"Reading image {}/{}\".format(i+1, len(images_path)))\n",
    "        \n",
    "        img = Image.open(os.path.join(imgdir, images_path[i]))\n",
    "        img = np.array(img)\n",
    "        \n",
    "        input_point = np.array([[750, 700], [800, 500]])\n",
    "        # input_point = np.array([[700, 600]])\n",
    "        input_label = np.ones(len(input_point))\n",
    "\n",
    "        predictor.set_image(img)\n",
    "        vanilla_masks, scores, logits = predictor.predict(\n",
    "            point_coords=input_point,\n",
    "            point_labels=input_label,\n",
    "            multimask_output=True,\n",
    "        )\n",
    "\n",
    "        mask_id = np.argmax(scores)\n",
    "        plt.imshow(img)\n",
    "        show_points(input_point, input_label, plt.gca())\n",
    "        show_mask(vanilla_masks[mask_id], plt.gca())\n",
    "        plt.title(f\"Mask {mask_id}, Score: {scores[mask_id]:.3f}\", fontsize=18)\n",
    "        plt.show()\n",
    "        time.sleep(2)\n",
    "\n",
    "        save_dir = os.path.join(datadir, camdir, \"gt_mask\", \"man\")\n",
    "        os.makedirs(save_dir, exist_ok=True)\n",
    "        cv2.imwrite(os.path.join(save_dir, images_path[i]), vanilla_masks[mask_id].astype(\"int\"))\n",
    "        \n",
    "        clear()"
   ]
  }
 ],
 "metadata": {
  "kernelspec": {
   "display_name": "Gaussians4D",
   "language": "python",
   "name": "python3"
  },
  "language_info": {
   "codemirror_mode": {
    "name": "ipython",
    "version": 3
   },
   "file_extension": ".py",
   "mimetype": "text/x-python",
   "name": "python",
   "nbconvert_exporter": "python",
   "pygments_lexer": "ipython3",
   "version": "3.7.12"
  }
 },
 "nbformat": 4,
 "nbformat_minor": 2
}
