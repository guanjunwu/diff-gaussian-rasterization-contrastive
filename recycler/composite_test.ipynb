{
 "cells": [
  {
   "cell_type": "code",
   "execution_count": 1,
   "metadata": {},
   "outputs": [
    {
     "name": "stdout",
     "output_type": "stream",
     "text": [
      "Jupyter environment detected. Enabling Open3D WebVisualizer.\n",
      "[Open3D INFO] WebRTC GUI backend enabled.\n",
      "[Open3D INFO] WebRTCWindowSystem: HTTP handshake server disabled.\n"
     ]
    }
   ],
   "source": [
    "import os, sys\n",
    "os.environ[\"CUDA_VISIBLE_DEVICES\"] = \"2\"\n",
    "import imageio\n",
    "import numpy as np\n",
    "import torch\n",
    "import cv2\n",
    "from tqdm import tqdm\n",
    "from os import makedirs\n",
    "import torchvision\n",
    "from utils.general_utils import safe_state\n",
    "from argparse import ArgumentParser\n",
    "from arguments import ModelParams, PipelineParams, ModelHiddenParams #, get_combined_args,\n",
    "from time import time\n",
    "import open3d as o3d\n",
    "from copy import deepcopy\n",
    "import torch\n",
    "import math\n",
    "from matplotlib import pyplot as plt\n",
    "\n",
    "from diff_gaussian_rasterization import GaussianRasterizationSettings, GaussianRasterizer\n",
    "from scene import Scene as DynamicScene\n",
    "from static_scene import Scene as StaticScene\n",
    "from scene.feature_gaussian_model import GaussianModel as DynamicGaussianModel\n",
    "from static_scene. gaussian_model import GaussianModel as StaticGaussianModel\n",
    "# from gaussian_renderer import render\n",
    "from utils.segment_utils import get_combined_args\n",
    "\n",
    "%load_ext autoreload\n",
    "%autoreload 2"
   ]
  },
  {
   "cell_type": "code",
   "execution_count": 2,
   "metadata": {},
   "outputs": [],
   "source": [
    "def rotate_point_cloud(point_cloud, displacement, rotation_angles, scales_bias):\n",
    "    \n",
    "    theta, phi, alpha = rotation_angles\n",
    "\n",
    "    rotation_matrix_z = torch.tensor([\n",
    "        [torch.cos(theta), -torch.sin(theta), 0],\n",
    "        [torch.sin(theta),  torch.cos(theta), 0],\n",
    "        [0,                0,               1]\n",
    "    ]).to(point_cloud)\n",
    "    \n",
    "    rotation_matrix_x = torch.tensor([\n",
    "        [1, 0,                0],\n",
    "        [0, torch.cos(phi), -torch.sin(phi)],\n",
    "        [0, torch.sin(phi),  torch.cos(phi)]\n",
    "    ]).to(point_cloud)\n",
    "    \n",
    "    rotation_matrix_y = torch.tensor([\n",
    "        [torch.cos(alpha), 0, torch.sin(alpha)],\n",
    "        [0, 1, 0],\n",
    "        [-torch.sin(alpha), 0, torch.cos(alpha)]\n",
    "    ]).to(point_cloud)\n",
    "    \n",
    "    rotation_matrix = torch.matmul(rotation_matrix_z, rotation_matrix_x)\n",
    "    rotation_matrix = torch.matmul(rotation_matrix, rotation_matrix_y)\n",
    "    # print(rotation_matrix)\n",
    "    \n",
    "    point_cloud = point_cloud * scales_bias\n",
    "    rotated_point_cloud = torch.matmul(point_cloud, rotation_matrix.T)\n",
    "    # rotated_point_cloud = torch.matmul(point_cloud, rotation_matrix.t())\n",
    "    displaced_point_cloud = rotated_point_cloud + displacement\n",
    "\n",
    "    return displaced_point_cloud\n",
    "\n",
    "@torch.no_grad()\n",
    "def get_state_at_time(pc, timestamp=None, seg=False, static=False):\n",
    "    if static:\n",
    "        means3D = pc.get_xyz\n",
    "        opacity = pc.get_opacity\n",
    "        scales = pc.get_scaling\n",
    "        rotations = pc.get_rotation\n",
    "        shs = pc.get_features\n",
    "        return means3D, scales, rotations, opacity, shs\n",
    "    else: \n",
    "        if seg:\n",
    "            # nearest interpolate\n",
    "            diff = torch.abs(pc._time_map - timestamp)\n",
    "            index = torch.argmin(diff)\n",
    "            mask = pc._mask_table[index].bool()     \n",
    "            \n",
    "            means3D = pc.get_xyz[mask]\n",
    "            time = torch.tensor(timestamp).to(means3D.device).repeat(means3D.shape[0],1)\n",
    "            opacity = pc._opacity[mask]\n",
    "            shs = pc.get_features[mask]\n",
    "            scales = pc._scaling[mask]\n",
    "            rotations = pc._rotation[mask]\n",
    "        else:\n",
    "            means3D = pc.get_xyz\n",
    "            time = torch.tensor(timestamp).to(means3D.device).repeat(means3D.shape[0],1)\n",
    "            opacity = pc._opacity\n",
    "            shs = pc.get_features\n",
    "            scales = pc._scaling\n",
    "            rotations = pc._rotation\n",
    "\n",
    "        means3D_final, scales_final, rotations_final, opacity_final, shs_final = pc._deformation(means3D, scales, \n",
    "                                                                    rotations, opacity, shs,\n",
    "                                                                    time)\n",
    "        scales_final = pc.scaling_activation(scales_final)\n",
    "        rotations_final = pc.rotation_activation(rotations_final)\n",
    "        opacity = pc.opacity_activation(opacity_final)\n",
    "        return means3D_final, scales_final, rotations_final, opacity, shs\n",
    "\n",
    "@torch.no_grad()\n",
    "def render(viewpoint_camera, timestamp, gaussians: list, bg_color : torch.Tensor, scaling_modifier = 1.0, \n",
    "           motion_bias: list = [torch.tensor([0,0,0])], \n",
    "           rotation_bias: list = [torch.tensor([0,0])],\n",
    "           scales_bias: list = [1]):\n",
    "    # Create zero tensor. We will use it to make pytorch return gradients of the 2D (screen-space) means\n",
    "    screenspace_points = None\n",
    "    for pc in gaussians:\n",
    "        if screenspace_points is None:\n",
    "            screenspace_points = torch.zeros_like(pc.get_xyz, dtype=pc.get_xyz.dtype, requires_grad=True, device=\"cuda\") + 0\n",
    "        else:\n",
    "            screenspace_points1 = torch.zeros_like(pc.get_xyz, dtype=pc.get_xyz.dtype, requires_grad=True, device=\"cuda\") + 0\n",
    "            screenspace_points = torch.cat([screenspace_points,screenspace_points1],dim=0)\n",
    "    try:\n",
    "        screenspace_points.retain_grad()\n",
    "    except:\n",
    "        pass\n",
    "    \n",
    "    # Set up rasterization configuration\n",
    "    tanfovx = math.tan(viewpoint_camera.FoVx * 0.5)\n",
    "    tanfovy = math.tan(viewpoint_camera.FoVy * 0.5)\n",
    "    raster_settings = GaussianRasterizationSettings(\n",
    "        image_height=int(viewpoint_camera.image_height),\n",
    "        image_width=int(viewpoint_camera.image_width),\n",
    "        tanfovx=tanfovx,\n",
    "        tanfovy=tanfovy,\n",
    "        bg=bg_color,\n",
    "        scale_modifier=scaling_modifier,\n",
    "        viewmatrix=viewpoint_camera.world_view_transform.cuda(),\n",
    "        projmatrix=viewpoint_camera.full_proj_transform.cuda(),\n",
    "        sh_degree=gaussians[0].active_sh_degree,\n",
    "        campos=viewpoint_camera.camera_center.cuda(),\n",
    "        prefiltered=False,\n",
    "        debug=False\n",
    "    )\n",
    "\n",
    "    rasterizer = GaussianRasterizer(raster_settings=raster_settings)\n",
    "    means3D_final, scales_final, rotations_final, opacity_final, shs_final = None, None, None, None, None\n",
    "    for index, pc in enumerate(gaussians):\n",
    "        # means3D_final1, scales_final1, rotations_final1, opacity_final1, shs_final1 = get_state_at_time(pc, viewpoint_camera)\n",
    "        # scales_final1 = pc.scaling_activation(scales_final1)\n",
    "        # rotations_final1 = pc.rotation_activation(rotations_final1)\n",
    "        # opacity_final1 = pc.opacity_activation(opacity_final1)\n",
    "        if index == 0:\n",
    "            continue\n",
    "            means3D_final, scales_final, rotations_final, opacity_final, shs_final = get_state_at_time(pc, timestamp=timestamp, static=True)\n",
    "        else:\n",
    "            means3D_final1, scales_final1, rotations_final1, opacity_final1, shs_final1 = get_state_at_time(pc, timestamp=timestamp, seg=True)\n",
    "            \n",
    "            # print(means3D_final1.device)\n",
    "            # print(motion_bias_t.device)\n",
    "            # print()\n",
    "            # transform\n",
    "            motion_bias_t = motion_bias[index-1].to('cuda')\n",
    "            rotation_bias_t = rotation_bias[index-1].to('cuda')\n",
    "            means3D_final1 = rotate_point_cloud(means3D_final1, motion_bias_t, rotation_bias_t, scales_bias[index-1])\n",
    "            scales_final1 = scales_final1 * scales_bias[index-1]\n",
    "            \n",
    "            # # merge 4dgs\n",
    "            # means3D_final = torch.cat([means3D_final, means3D_final1], dim=0)\n",
    "            # scales_final = torch.cat([scales_final, scales_final1], dim=0)\n",
    "            # rotations_final = torch.cat([rotations_final, rotations_final1], dim=0)\n",
    "            # opacity_final = torch.cat([opacity_final, opacity_final1], dim=0)\n",
    "            # shs_final = torch.cat([shs_final, shs_final1], dim=0)\n",
    "            \n",
    "            means3D_final = means3D_final1\n",
    "            scales_final = scales_final1\n",
    "            rotations_final = rotations_final1\n",
    "            opacity_final = opacity_final1\n",
    "            shs_final = shs_final1\n",
    "            \n",
    "\n",
    "    colors_precomp = None\n",
    "    cov3D_precomp = None\n",
    "    rendered_image, _, radii, _ = rasterizer(\n",
    "        means3D = means3D_final,\n",
    "        means2D = screenspace_points,\n",
    "        shs = shs_final,\n",
    "        colors_precomp = colors_precomp,\n",
    "        opacities = opacity_final,\n",
    "        mask = torch.zeros((means3D_final.shape[0], 1), dtype=torch.float, device=\"cuda\"),\n",
    "        scales = scales_final,\n",
    "        rotations = rotations_final,\n",
    "        cov3D_precomp = cov3D_precomp)\n",
    "\n",
    "    return {\"render\": rendered_image,\n",
    "            \"viewspace_points\": screenspace_points,\n",
    "            \"visibility_filter\" : radii > 0,\n",
    "            \"radii\": radii}\n",
    "\n",
    "\n",
    "def init_dynamic_gaussians(dataset : ModelParams, hyperparam, iteration : int, cam_view=None):\n",
    "    with torch.no_grad():\n",
    "        gaussians = DynamicGaussianModel(dataset.sh_degree, \"scene\", hyperparam)\n",
    "        scene = DynamicScene(dataset, gaussians, load_iteration=iteration, mode='scene', shuffle=False, cam_view=cam_view)\n",
    "\n",
    "        bg_color = [1,1,1] if dataset.white_background else [0, 0, 0]\n",
    "        background = torch.tensor(bg_color, dtype=torch.float32, device=\"cuda\")\n",
    "\n",
    "    print(f'Init {dataset.model_path} finished\\n')\n",
    "    return gaussians, scene, background\n",
    "\n",
    "def init_static_gaussians(dataset : ModelParams, iteration : int):\n",
    "    with torch.no_grad():\n",
    "        gaussians = StaticGaussianModel(dataset.sh_degree)\n",
    "        scene = StaticScene(dataset, gaussians, load_iteration=iteration, shuffle=False)\n",
    "\n",
    "        bg_color = [1,1,1] if dataset.white_background else [0, 0, 0]\n",
    "        background = torch.tensor(bg_color, dtype=torch.float32, device=\"cuda\")\n",
    "\n",
    "    print(f'Init {dataset.model_path} finished\\n')\n",
    "    return gaussians, scene, background\n",
    "\n",
    "def save_point_cloud(points, model_path, timestamp):\n",
    "    output_path = os.path.join(model_path,\"point_pertimestamp\")\n",
    "    if not os.path.exists(output_path):\n",
    "        os.makedirs(output_path,exist_ok=True)\n",
    "    points = points.detach().cpu().numpy()\n",
    "    pcd = o3d.geometry.PointCloud()\n",
    "    pcd.points = o3d.utility.Vector3dVector(points)\n",
    "    ply_path = os.path.join(output_path,f\"points_{timestamp}.ply\")\n",
    "    o3d.io.write_point_cloud(ply_path, pcd)\n",
    "\n",
    "\n",
    "to8b = lambda x : (255*np.clip(x.cpu().numpy(),0,1)).astype(np.uint8)\n"
   ]
  },
  {
   "cell_type": "code",
   "execution_count": 3,
   "metadata": {},
   "outputs": [],
   "source": [
    "model0 = \"./output/hypernerf/misc/americano\"\n",
    "config0 = \"arguments/hypernerf/default.py\"\n",
    "\n",
    "model1 = \"./output/hypernerf/misc/americano\"\n",
    "config1 = \"arguments/hypernerf/default.py\"\n",
    "\n",
    "render_path = \"demo\""
   ]
  },
  {
   "cell_type": "code",
   "execution_count": 4,
   "metadata": {},
   "outputs": [
    {
     "name": "stdout",
     "output_type": "stream",
     "text": [
      "Looking for config file in ./output/hypernerf/misc/americano/cfg_args\n",
      "Config file found at: ./output/hypernerf/misc/americano/cfg_args\n",
      "Looking for config file in ./output/hypernerf/misc/americano/cfg_args\n",
      "Config file found at: ./output/hypernerf/misc/americano/cfg_args\n"
     ]
    }
   ],
   "source": [
    "parser = ArgumentParser(description=\"Testing script parameters\")\n",
    "model = ModelParams(parser, sentinel=True)\n",
    "pipeline = PipelineParams(parser)\n",
    "hyperparam = ModelHiddenParams(parser)\n",
    "parser.add_argument(\"--iteration\", default=-1, type=int)\n",
    "# parser.add_argument(\"--skip_train\", action=\"store_true\")\n",
    "# parser.add_argument(\"--skip_test\", action=\"store_true\")\n",
    "# parser.add_argument(\"--quiet\", action=\"store_true\")\n",
    "# parser.add_argument(\"--skip_video\", action=\"store_true\")\n",
    "parser.add_argument(\"--modelpath0\", type=str, default=model0)\n",
    "parser.add_argument(\"--modelpath1\", type=str, default=model1)\n",
    "parser.add_argument(\"--configs1\", type=str, default=config1)\n",
    "# parser.add_argument(\"--configs3\", type=str, default=\"arguments/dnerf_tv_2/mutant.py\")\n",
    "# parser.add_argument(\"--modelpath3\", type=str, default=\"output/dnerf_tv_2/mutant\")\n",
    "# args = parser.parse_args(sys.argv[1:])\n",
    "\n",
    "# model_background\n",
    "# args0 = deepcopy(args)\n",
    "args0 = get_combined_args(parser, model0, \"scene\")\n",
    "import mmcv\n",
    "from utils.params_utils import merge_hparams\n",
    "config = mmcv.Config.fromfile(config0)\n",
    "args0 = merge_hparams(args0, config)\n",
    "args0.object_masks = False\n",
    "args0.need_gt_masks = False\n",
    "\n",
    "# model1\n",
    "# args1 = deepcopy(args0)\n",
    "args1 = get_combined_args(parser, model1, \"scene\")\n",
    "import mmcv\n",
    "from utils.params_utils import merge_hparams\n",
    "config = mmcv.Config.fromfile(args1.configs1)\n",
    "args1 = merge_hparams(args1, config)\n",
    "# args1 = get_combined_args(args1, model1, \"scene\")\n",
    "args1.object_masks = False\n",
    "args1.need_gt_masks = False"
   ]
  },
  {
   "cell_type": "code",
   "execution_count": 6,
   "metadata": {},
   "outputs": [
    {
     "name": "stdout",
     "output_type": "stream",
     "text": [
      "mode:  scene\n",
      "Loading trained model at iteration 14000\n",
      "load finished\n"
     ]
    },
    {
     "name": "stderr",
     "output_type": "stream",
     "text": [
      "132it [00:00, 76949.01it/s]"
     ]
    },
    {
     "name": "stdout",
     "output_type": "stream",
     "text": [
      "format finished\n",
      "Loading Training Cameras\n",
      "Loading Test Cameras\n",
      "Loading Video Cameras\n",
      "Deformation Net Set aabb [38.7918396  10.79985237 83.10951233] [-17.94255638 -68.1852951    9.00503731]\n",
      "Voxel Plane: set aabb= Parameter containing:\n",
      "tensor([[ 38.7918,  10.7999,  83.1095],\n",
      "        [-17.9426, -68.1853,   9.0050]])\n"
     ]
    },
    {
     "name": "stderr",
     "output_type": "stream",
     "text": [
      "\n"
     ]
    },
    {
     "name": "stdout",
     "output_type": "stream",
     "text": [
      "loading model from exists./output/hypernerf/misc/americano/point_cloud/iteration_14000\n",
      "Init ./output/hypernerf/misc/americano finished\n",
      "\n",
      "mode:  scene\n",
      "Loading trained model at iteration 14000\n",
      "load finished\n"
     ]
    },
    {
     "name": "stderr",
     "output_type": "stream",
     "text": [
      "132it [00:00, 78945.98it/s]"
     ]
    },
    {
     "name": "stdout",
     "output_type": "stream",
     "text": [
      "format finished\n",
      "Loading Training Cameras\n",
      "Loading Test Cameras\n",
      "Loading Video Cameras\n",
      "Deformation Net Set aabb [38.7918396  10.79985237 83.10951233] [-17.94255638 -68.1852951    9.00503731]\n",
      "Voxel Plane: set aabb= Parameter containing:\n",
      "tensor([[ 38.7918,  10.7999,  83.1095],\n",
      "        [-17.9426, -68.1853,   9.0050]])\n"
     ]
    },
    {
     "name": "stderr",
     "output_type": "stream",
     "text": [
      "\n"
     ]
    },
    {
     "name": "stdout",
     "output_type": "stream",
     "text": [
      "loading model from exists./output/hypernerf/misc/americano/point_cloud/iteration_14000\n",
      "Init ./output/hypernerf/misc/americano finished\n",
      "\n"
     ]
    }
   ],
   "source": [
    "gaussians0, scene0, background = init_dynamic_gaussians(model.extract(args0), hyperparam.extract(args0), args0.iteration)\n",
    "gaussians1, scene1, background = init_dynamic_gaussians(model.extract(args1), hyperparam.extract(args1), args1.iteration)\n",
    "\n",
    "gaussians = [gaussians0, gaussians1]\n",
    "gaussians1.load_mask_table(os.path.join(args1.model_path, \"segment_results\", \"americano.pt\"))"
   ]
  },
  {
   "cell_type": "code",
   "execution_count": 40,
   "metadata": {},
   "outputs": [
    {
     "data": {
      "text/plain": [
       "<matplotlib.image.AxesImage at 0x7f10a0357220>"
      ]
     },
     "execution_count": 40,
     "metadata": {},
     "output_type": "execute_result"
    },
    {
     "data": {
      "image/png": "[encoded data removed]",
      "text/plain": [
       "<Figure size 640x480 with 1 Axes>"
      ]
     },
     "metadata": {},
     "output_type": "display_data"
    },
    {
     "ename": "",
     "evalue": "",
     "output_type": "error",
     "traceback": [
      "\u001b[1;31mThe Kernel crashed while executing code in the current cell or a previous cell. \n",
      "\u001b[1;31mPlease review the code in the cell(s) to identify a possible cause of the failure. \n",
      "\u001b[1;31mClick <a href='https://aka.ms/vscodeJupyterKernelCrash'>here</a> for more info. \n",
      "\u001b[1;31mView Jupyter <a href='command:jupyter.viewOutput'>log</a> for further details."
     ]
    }
   ],
   "source": [
    "motion_bias1 = torch.tensor([0, 0, 0])\n",
    "# rotation_bias1 = torch.tensor([np.pi/4, np.pi/4])\n",
    "rotation_bias1 = torch.tensor([0 ,0, 0])\n",
    "scales_bias1 = 1\n",
    "\n",
    "fix_viewpoint = scene0.getVideoCameras()[20]\n",
    "timestamp = scene1.getVideoCameras()[20].time\n",
    "\n",
    "result = render(fix_viewpoint, timestamp,\n",
    "                gaussians, \n",
    "                bg_color=background,\n",
    "                motion_bias=[motion_bias1],\n",
    "                rotation_bias=[rotation_bias1],\n",
    "                scales_bias = [scales_bias1])\n",
    "\n",
    "plt.imshow(to8b(result[\"render\"]).transpose(1,2,0))"
   ]
  },
  {
   "cell_type": "markdown",
   "metadata": {},
   "source": [
    "## Render Video."
   ]
  },
  {
   "cell_type": "code",
   "execution_count": null,
   "metadata": {},
   "outputs": [],
   "source": [
    "render_images=[]\n",
    "\n",
    "if not os.path.exists(render_path):\n",
    "    os.makedirs(render_path, exist_ok=True)\n",
    "\n",
    "fix_viewpoint = scene0.getTrainCameras()[81]\n",
    "\n",
    "for index, viewpoint in tqdm(enumerate(scene1.getVideoCameras())):\n",
    "    result = render(fix_viewpoint, viewpoint.time,\n",
    "                    gaussians, \n",
    "                    bg_color=background,\n",
    "                    motion_bias=[motion_bias1],\n",
    "                    rotation_bias=[rotation_bias1],\n",
    "                    scales_bias = [scales_bias1])\n",
    "    render_images.append(to8b(result[\"render\"]).transpose(1,2,0))\n",
    "    \n",
    "    # torchvision.utils.save_image(result[\"render\"],os.path.join(render_path,f\"output_image{index}.png\"))\n",
    "    \n",
    "imageio.mimwrite(os.path.join(render_path, 'video_rgb.mp4'), render_images, fps=30) \n",
    "# points = get_state_at_time(gaussians, viewpoint)\n",
    "# save_point_cloud(points, args.model_path, index)"
   ]
  }
 ],
 "metadata": {
  "kernelspec": {
   "display_name": "Gaussians4D",
   "language": "python",
   "name": "python3"
  },
  "language_info": {
   "codemirror_mode": {
    "name": "ipython",
    "version": 3
   },
   "file_extension": ".py",
   "mimetype": "text/x-python",
   "name": "python",
   "nbconvert_exporter": "python",
   "pygments_lexer": "ipython3",
   "version": "3.8.0"
  }
 },
 "nbformat": 4,
 "nbformat_minor": 2
}
